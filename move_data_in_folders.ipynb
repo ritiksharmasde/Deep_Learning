{
  "nbformat": 4,
  "nbformat_minor": 0,
  "metadata": {
    "colab": {
      "provenance": [],
      "authorship_tag": "ABX9TyO0fLgOjrtLieYvU1JL1UjI",
      "include_colab_link": true
    },
    "kernelspec": {
      "name": "python3",
      "display_name": "Python 3"
    },
    "language_info": {
      "name": "python"
    }
  },
  "cells": [
    {
      "cell_type": "markdown",
      "metadata": {
        "id": "view-in-github",
        "colab_type": "text"
      },
      "source": [
        "<a href=\"https://colab.research.google.com/github/ritiksharmasde/Deep_Learning/blob/main/move_data_in_folders.ipynb\" target=\"_parent\"><img src=\"https://colab.research.google.com/assets/colab-badge.svg\" alt=\"Open In Colab\"/></a>"
      ]
    },
    {
      "cell_type": "code",
      "execution_count": null,
      "metadata": {
        "id": "JlWVNX2WMCab"
      },
      "outputs": [],
      "source": [
        "import os\n",
        "import shutil\n",
        "from sklearn.model_selection import train_test_split\n",
        "\n",
        "# Define paths\n",
        "dataset_dir = \"dataset/\"\n",
        "train_dir = \"train/\"\n",
        "test_dir = \"test/\"\n",
        "\n",
        "# Create directories if they don't exist\n",
        "os.makedirs(train_dir, exist_ok=True)\n",
        "os.makedirs(test_dir, exist_ok=True)\n",
        "\n",
        "for category in os.listdir(dataset_dir):  # Loop through each class folder\n",
        "    imgs = os.listdir(os.path.join(dataset_dir, category))\n",
        "    train_imgs, test_imgs = train_test_split(imgs, test_size=0.2, random_state=42)\n",
        "\n",
        "    # Create class folders in train/test\n",
        "    os.makedirs(os.path.join(train_dir, category), exist_ok=True)\n",
        "    os.makedirs(os.path.join(test_dir, category), exist_ok=True)\n",
        "\n",
        "    # Move images\n",
        "    for img in train_imgs:\n",
        "        shutil.move(os.path.join(dataset_dir, category, img), os.path.join(train_dir, category, img))\n",
        "\n",
        "    for img in test_imgs:\n",
        "        shutil.move(os.path.join(dataset_dir, category, img), os.path.join(test_dir, category, img))\n",
        "\n",
        "print(\"Dataset split complete!\")\n"
      ]
    }
  ]
}