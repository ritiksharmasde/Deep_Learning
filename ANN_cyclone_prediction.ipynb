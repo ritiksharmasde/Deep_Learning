{
  "nbformat": 4,
  "nbformat_minor": 0,
  "metadata": {
    "colab": {
      "provenance": [],
      "authorship_tag": "ABX9TyOcDeUflWjBs+JY9bdgmArm",
      "include_colab_link": true
    },
    "kernelspec": {
      "name": "python3",
      "display_name": "Python 3"
    },
    "language_info": {
      "name": "python"
    }
  },
  "cells": [
    {
      "cell_type": "markdown",
      "metadata": {
        "id": "view-in-github",
        "colab_type": "text"
      },
      "source": [
        "<a href=\"https://colab.research.google.com/github/ritiksharmasde/Deep_Learning/blob/main/ANN_cyclone_prediction.ipynb\" target=\"_parent\"><img src=\"https://colab.research.google.com/assets/colab-badge.svg\" alt=\"Open In Colab\"/></a>"
      ]
    },
    {
      "cell_type": "code",
      "execution_count": 1,
      "metadata": {
        "id": "W-1ml4Oq-Sat"
      },
      "outputs": [],
      "source": [
        "# importing libraries\n",
        "import pandas as pd\n",
        "import scipy\n",
        "import numpy as np\n",
        "from sklearn.preprocessing import MinMaxScaler\n",
        "import seaborn as sns\n",
        "import matplotlib.pyplot as plt"
      ]
    },
    {
      "cell_type": "code",
      "source": [
        "# Load the dataset\n",
        "df = pd.read_csv('cyclone_dataset.csv')\n",
        "print(df.head())"
      ],
      "metadata": {
        "colab": {
          "base_uri": "https://localhost:8080/"
        },
        "id": "8LK-lRRj_nwh",
        "outputId": "1a99a64f-163d-4460-cdd5-28d27263c49e"
      },
      "execution_count": 2,
      "outputs": [
        {
          "output_type": "stream",
          "name": "stdout",
          "text": [
            "   Sea_Surface_Temperature  Atmospheric_Pressure   Humidity  Wind_Shear  \\\n",
            "0                27.498160           1008.521429  89.279758   13.979877   \n",
            "1                28.404460           1001.242177  60.823380   19.548648   \n",
            "2                27.216969            995.742693  77.277801    9.368437   \n",
            "3                27.824280           1003.555279  67.986951   12.713517   \n",
            "4                26.260206           1008.466566  98.625281   17.125960   \n",
            "\n",
            "   Vorticity  Latitude  Ocean_Depth  Proximity_to_Coastline  \\\n",
            "0   0.000020  8.119890    76.137625                1.366176   \n",
            "1   0.000084  9.246782   131.821235                0.683405   \n",
            "2   0.000063  7.789877   181.465092                0.866362   \n",
            "3   0.000061  5.929008   323.395183                0.670524   \n",
            "4   0.000034  6.953442   357.904862                0.940152   \n",
            "\n",
            "   Pre_existing_Disturbance  Cyclone  \n",
            "0                         1        1  \n",
            "1                         1        1  \n",
            "2                         1        1  \n",
            "3                         1        1  \n",
            "4                         1        1  \n"
          ]
        }
      ]
    },
    {
      "cell_type": "code",
      "source": [
        "\n",
        "\n",
        "# Function to calculate Entropy\n",
        "def entropy(s):\n",
        "    proportions = s.value_counts(normalize=True)\n",
        "    return -np.sum(proportions * np.log2(proportions))\n",
        "\n",
        "# Calculate Entropy for the entire dataset based on the target variable \"Cyclone\"\n",
        "entropy_total = entropy(df[\"Cyclone\"])\n",
        "\n",
        "# Calculate Information Gain for each feature\n",
        "information_gains = {}\n",
        "\n",
        "for feature in df.columns:\n",
        "    if feature != \"Cyclone\":\n",
        "        # Calculate the weighted entropy for this feature\n",
        "        weighted_entropy = 0\n",
        "        for value in df[feature].unique():\n",
        "            subset = df[df[feature] == value]\n",
        "            weighted_entropy += (len(subset) / len(df)) * entropy(subset[\"Cyclone\"])\n",
        "        # Information Gain = Entropy(Parent) - Weighted Entropy\n",
        "        information_gain = entropy_total - weighted_entropy\n",
        "        information_gains[feature] = information_gain\n",
        "\n",
        "# Get top 3 features with highest information gain\n",
        "top_3_features = sorted(information_gains.items(), key=lambda x: x[1], reverse=True)[:3]\n",
        "top_3_features\n"
      ],
      "metadata": {
        "colab": {
          "base_uri": "https://localhost:8080/"
        },
        "id": "TttH1FoX_sGH",
        "outputId": "ad1b803b-6f47-4d3e-ce34-b45be17e9e47"
      },
      "execution_count": 3,
      "outputs": [
        {
          "output_type": "execute_result",
          "data": {
            "text/plain": [
              "[('Sea_Surface_Temperature', 1.0),\n",
              " ('Atmospheric_Pressure', 1.0),\n",
              " ('Humidity', 1.0)]"
            ]
          },
          "metadata": {},
          "execution_count": 3
        }
      ]
    },
    {
      "cell_type": "code",
      "source": [
        "\n",
        "print(df.columns.tolist())\n",
        "df = df.drop(columns=[ 'Wind_Shear', 'Vorticity', 'Latitude', 'Ocean_Depth', 'Proximity_to_Coastline', 'Pre_existing_Disturbance'])\n",
        "print(df.columns.tolist())\n",
        "\n",
        "import numpy as np\n",
        "import pandas as pd\n",
        "import matplotlib.pyplot as plt\n",
        "from sklearn.model_selection import train_test_split\n",
        "import tensorflow as tf\n",
        "from tensorflow.keras.models import Sequential\n",
        "from tensorflow.keras.layers import Conv1D, Flatten, Dense\n",
        "from tensorflow.keras.optimizers import Adam\n",
        "\n",
        "# Load the dataset\n",
        "df = pd.read_csv('cyclone_dataset.csv')\n",
        "\n",
        "# Select only the relevant features and the target\n",
        "X_raw = df[['Sea_Surface_Temperature', 'Atmospheric_Pressure', 'Humidity']]  # Features\n",
        "y = df[\"Cyclone\"]  # Target variable\n",
        "\n",
        "# Reshape data for CNN (adding an extra dimension for channels)\n",
        "X_reshaped = X_raw.values.reshape((X_raw.shape[0], X_raw.shape[1], 1))\n",
        "\n",
        "# Train-test split\n",
        "X_train, X_test, y_train, y_test = train_test_split(X_reshaped, y, test_size=0.2, random_state=42)\n",
        "\n",
        "# Build the CNN model\n",
        "model = Sequential()\n",
        "\n",
        "# Add convolutional layer (1D) without pooling (due to small feature size)\n",
        "model.add(Conv1D(filters=64, kernel_size=3, activation='relu', input_shape=(X_train.shape[1], 1)))\n",
        "\n",
        "# Flatten the output of the convolutional layers\n",
        "model.add(Flatten())\n",
        "\n",
        "# Add dense layers for classification\n",
        "model.add(Dense(64, activation='relu'))\n",
        "model.add(Dense(1, activation='sigmoid'))  # Output layer with sigmoid for binary classification\n",
        "\n",
        "# Compile the model\n",
        "model.compile(optimizer=Adam(), loss='binary_crossentropy', metrics=['accuracy'])\n",
        "\n",
        "# Train the model\n",
        "history = model.fit(X_train, y_train, epochs=20, batch_size=32, validation_data=(X_test, y_test))\n",
        "\n",
        "# Evaluate the model\n",
        "loss, accuracy = model.evaluate(X_test, y_test)\n",
        "print(f\"Test accuracy: {accuracy:.4f}\")\n",
        "\n",
        "# Plot the training history\n",
        "plt.plot(history.history['accuracy'], label='Train Accuracy')\n",
        "plt.plot(history.history['val_accuracy'], label='Test Accuracy')\n",
        "plt.xlabel('Epochs')\n",
        "plt.ylabel('Accuracy')\n",
        "plt.legend()\n",
        "plt.show()\n",
        "\n",
        "# --- PREDICTION SECTION ---\n",
        "\n",
        "# Define a real-world custom input for prediction (Example: 30°C SST, 1005 hPa Pressure, 80% Humidity)\n",
        "custom_input = np.array([[30.0, 1005, 80]])  # Adjust values as needed\n",
        "\n",
        "# Reshape for CNN input\n",
        "custom_input_reshaped = custom_input.reshape((1, 3, 1))\n",
        "\n",
        "# Predict using the trained model\n",
        "prediction = model.predict(custom_input_reshaped)\n",
        "\n",
        "# Convert probability to binary class (0 = No Cyclone, 1 = Cyclone)\n",
        "predicted_class = (prediction > 0.5).astype(int)\n",
        "\n",
        "# Print the prediction result\n",
        "print(\"Predicted Probability:\", prediction[0][0])\n",
        "print(\"Predicted Class (0 = No Cyclone, 1 = Cyclone):\", predicted_class[0][0])\n",
        "\n",
        "# Predict on the test set\n",
        "pred = model.predict(X_test)\n",
        "\n",
        "# Convert probabilities to binary predictions (0 or 1)\n",
        "pred_binary = (pred > 0.5).astype(int)\n",
        "\n",
        "# Print sample test predictions\n",
        "print(\"Sample Predictions:\", pred_binary[:10].flatten())\n",
        "print(\"Actual Labels:\", y_test[:10].values.flatten())\n"
      ],
      "metadata": {
        "colab": {
          "base_uri": "https://localhost:8080/",
          "height": 1000
        },
        "id": "HEklyN6h_viQ",
        "outputId": "40ee1136-5c65-42a5-bbab-5504c2232b3a"
      },
      "execution_count": 15,
      "outputs": [
        {
          "output_type": "stream",
          "name": "stdout",
          "text": [
            "['Sea_Surface_Temperature', 'Atmospheric_Pressure', 'Humidity', 'Wind_Shear', 'Vorticity', 'Latitude', 'Ocean_Depth', 'Proximity_to_Coastline', 'Pre_existing_Disturbance', 'Cyclone']\n",
            "['Sea_Surface_Temperature', 'Atmospheric_Pressure', 'Humidity', 'Cyclone']\n",
            "Epoch 1/20\n"
          ]
        },
        {
          "output_type": "stream",
          "name": "stderr",
          "text": [
            "/usr/local/lib/python3.11/dist-packages/keras/src/layers/convolutional/base_conv.py:107: UserWarning: Do not pass an `input_shape`/`input_dim` argument to a layer. When using Sequential models, prefer using an `Input(shape)` object as the first layer in the model instead.\n",
            "  super().__init__(activity_regularizer=activity_regularizer, **kwargs)\n"
          ]
        },
        {
          "output_type": "stream",
          "name": "stdout",
          "text": [
            "\u001b[1m50/50\u001b[0m \u001b[32m━━━━━━━━━━━━━━━━━━━━\u001b[0m\u001b[37m\u001b[0m \u001b[1m2s\u001b[0m 8ms/step - accuracy: 0.5506 - loss: 4.0434 - val_accuracy: 0.6550 - val_loss: 0.6450\n",
            "Epoch 2/20\n",
            "\u001b[1m50/50\u001b[0m \u001b[32m━━━━━━━━━━━━━━━━━━━━\u001b[0m\u001b[37m\u001b[0m \u001b[1m0s\u001b[0m 4ms/step - accuracy: 0.7219 - loss: 0.5591 - val_accuracy: 0.7275 - val_loss: 0.6851\n",
            "Epoch 3/20\n",
            "\u001b[1m50/50\u001b[0m \u001b[32m━━━━━━━━━━━━━━━━━━━━\u001b[0m\u001b[37m\u001b[0m \u001b[1m0s\u001b[0m 4ms/step - accuracy: 0.7575 - loss: 0.5062 - val_accuracy: 0.7075 - val_loss: 0.6289\n",
            "Epoch 4/20\n",
            "\u001b[1m50/50\u001b[0m \u001b[32m━━━━━━━━━━━━━━━━━━━━\u001b[0m\u001b[37m\u001b[0m \u001b[1m0s\u001b[0m 3ms/step - accuracy: 0.7310 - loss: 0.5602 - val_accuracy: 0.7200 - val_loss: 0.4590\n",
            "Epoch 5/20\n",
            "\u001b[1m50/50\u001b[0m \u001b[32m━━━━━━━━━━━━━━━━━━━━\u001b[0m\u001b[37m\u001b[0m \u001b[1m0s\u001b[0m 3ms/step - accuracy: 0.7488 - loss: 0.5033 - val_accuracy: 0.7100 - val_loss: 0.8605\n",
            "Epoch 6/20\n",
            "\u001b[1m50/50\u001b[0m \u001b[32m━━━━━━━━━━━━━━━━━━━━\u001b[0m\u001b[37m\u001b[0m \u001b[1m0s\u001b[0m 3ms/step - accuracy: 0.7385 - loss: 0.7162 - val_accuracy: 0.6600 - val_loss: 1.0585\n",
            "Epoch 7/20\n",
            "\u001b[1m50/50\u001b[0m \u001b[32m━━━━━━━━━━━━━━━━━━━━\u001b[0m\u001b[37m\u001b[0m \u001b[1m0s\u001b[0m 4ms/step - accuracy: 0.7750 - loss: 0.4959 - val_accuracy: 0.7675 - val_loss: 0.4544\n",
            "Epoch 8/20\n",
            "\u001b[1m50/50\u001b[0m \u001b[32m━━━━━━━━━━━━━━━━━━━━\u001b[0m\u001b[37m\u001b[0m \u001b[1m0s\u001b[0m 4ms/step - accuracy: 0.7925 - loss: 0.4802 - val_accuracy: 0.7500 - val_loss: 0.4282\n",
            "Epoch 9/20\n",
            "\u001b[1m50/50\u001b[0m \u001b[32m━━━━━━━━━━━━━━━━━━━━\u001b[0m\u001b[37m\u001b[0m \u001b[1m0s\u001b[0m 4ms/step - accuracy: 0.7993 - loss: 0.4201 - val_accuracy: 0.7925 - val_loss: 0.5297\n",
            "Epoch 10/20\n",
            "\u001b[1m50/50\u001b[0m \u001b[32m━━━━━━━━━━━━━━━━━━━━\u001b[0m\u001b[37m\u001b[0m \u001b[1m0s\u001b[0m 3ms/step - accuracy: 0.7910 - loss: 0.4485 - val_accuracy: 0.7200 - val_loss: 0.7122\n",
            "Epoch 11/20\n",
            "\u001b[1m50/50\u001b[0m \u001b[32m━━━━━━━━━━━━━━━━━━━━\u001b[0m\u001b[37m\u001b[0m \u001b[1m0s\u001b[0m 3ms/step - accuracy: 0.7375 - loss: 0.7251 - val_accuracy: 0.7725 - val_loss: 0.4247\n",
            "Epoch 12/20\n",
            "\u001b[1m50/50\u001b[0m \u001b[32m━━━━━━━━━━━━━━━━━━━━\u001b[0m\u001b[37m\u001b[0m \u001b[1m0s\u001b[0m 4ms/step - accuracy: 0.8065 - loss: 0.3608 - val_accuracy: 0.7875 - val_loss: 0.4352\n",
            "Epoch 13/20\n",
            "\u001b[1m50/50\u001b[0m \u001b[32m━━━━━━━━━━━━━━━━━━━━\u001b[0m\u001b[37m\u001b[0m \u001b[1m0s\u001b[0m 3ms/step - accuracy: 0.8154 - loss: 0.3552 - val_accuracy: 0.7175 - val_loss: 0.7292\n",
            "Epoch 14/20\n",
            "\u001b[1m50/50\u001b[0m \u001b[32m━━━━━━━━━━━━━━━━━━━━\u001b[0m\u001b[37m\u001b[0m \u001b[1m0s\u001b[0m 4ms/step - accuracy: 0.8286 - loss: 0.3747 - val_accuracy: 0.7975 - val_loss: 0.3318\n",
            "Epoch 15/20\n",
            "\u001b[1m50/50\u001b[0m \u001b[32m━━━━━━━━━━━━━━━━━━━━\u001b[0m\u001b[37m\u001b[0m \u001b[1m0s\u001b[0m 3ms/step - accuracy: 0.8017 - loss: 0.4399 - val_accuracy: 0.8025 - val_loss: 0.3441\n",
            "Epoch 16/20\n",
            "\u001b[1m50/50\u001b[0m \u001b[32m━━━━━━━━━━━━━━━━━━━━\u001b[0m\u001b[37m\u001b[0m \u001b[1m0s\u001b[0m 4ms/step - accuracy: 0.8325 - loss: 0.3402 - val_accuracy: 0.8125 - val_loss: 0.3124\n",
            "Epoch 17/20\n",
            "\u001b[1m50/50\u001b[0m \u001b[32m━━━━━━━━━━━━━━━━━━━━\u001b[0m\u001b[37m\u001b[0m \u001b[1m0s\u001b[0m 3ms/step - accuracy: 0.8403 - loss: 0.3559 - val_accuracy: 0.8200 - val_loss: 0.3082\n",
            "Epoch 18/20\n",
            "\u001b[1m50/50\u001b[0m \u001b[32m━━━━━━━━━━━━━━━━━━━━\u001b[0m\u001b[37m\u001b[0m \u001b[1m0s\u001b[0m 3ms/step - accuracy: 0.7975 - loss: 0.4461 - val_accuracy: 0.8300 - val_loss: 0.2838\n",
            "Epoch 19/20\n",
            "\u001b[1m50/50\u001b[0m \u001b[32m━━━━━━━━━━━━━━━━━━━━\u001b[0m\u001b[37m\u001b[0m \u001b[1m0s\u001b[0m 3ms/step - accuracy: 0.8520 - loss: 0.2891 - val_accuracy: 0.7275 - val_loss: 0.7854\n",
            "Epoch 20/20\n",
            "\u001b[1m50/50\u001b[0m \u001b[32m━━━━━━━━━━━━━━━━━━━━\u001b[0m\u001b[37m\u001b[0m \u001b[1m0s\u001b[0m 5ms/step - accuracy: 0.8282 - loss: 0.3993 - val_accuracy: 0.8375 - val_loss: 0.2826\n",
            "\u001b[1m13/13\u001b[0m \u001b[32m━━━━━━━━━━━━━━━━━━━━\u001b[0m\u001b[37m\u001b[0m \u001b[1m0s\u001b[0m 5ms/step - accuracy: 0.8330 - loss: 0.2819 \n",
            "Test accuracy: 0.8375\n"
          ]
        },
        {
          "output_type": "display_data",
          "data": {
            "text/plain": [
              "<Figure size 640x480 with 1 Axes>"
            ],
            "image/png": "[encoded data removed]"
          },
          "metadata": {}
        },
        {
          "output_type": "stream",
          "name": "stdout",
          "text": [
            "\u001b[1m1/1\u001b[0m \u001b[32m━━━━━━━━━━━━━━━━━━━━\u001b[0m\u001b[37m\u001b[0m \u001b[1m0s\u001b[0m 111ms/step\n",
            "Predicted Probability: 0.9500956\n",
            "Predicted Class (0 = No Cyclone, 1 = Cyclone): 1\n",
            "\u001b[1m13/13\u001b[0m \u001b[32m━━━━━━━━━━━━━━━━━━━━\u001b[0m\u001b[37m\u001b[0m \u001b[1m0s\u001b[0m 4ms/step \n",
            "Sample Predictions: [0 1 0 0 0 0 1 0 1 0]\n",
            "Actual Labels: [0 1 0 1 0 0 1 0 1 0]\n"
          ]
        }
      ]
    },
    {
      "cell_type": "code",
      "source": [
        "model.save(\"cyclone_ann_model.h5\")"
      ],
      "metadata": {
        "colab": {
          "base_uri": "https://localhost:8080/"
        },
        "id": "fGc4f-uA_yX7",
        "outputId": "563344b4-f5da-4172-c223-26a1b4976772"
      },
      "execution_count": 9,
      "outputs": [
        {
          "output_type": "stream",
          "name": "stderr",
          "text": [
            "WARNING:absl:You are saving your model as an HDF5 file via `model.save()` or `keras.saving.save_model(model)`. This file format is considered legacy. We recommend using instead the native Keras format, e.g. `model.save('my_model.keras')` or `keras.saving.save_model(model, 'my_model.keras')`. \n"
          ]
        }
      ]
    }
  ]
}