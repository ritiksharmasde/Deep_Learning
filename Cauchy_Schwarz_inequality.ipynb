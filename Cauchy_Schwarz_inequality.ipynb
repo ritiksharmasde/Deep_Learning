{
  "nbformat": 4,
  "nbformat_minor": 0,
  "metadata": {
    "colab": {
      "provenance": [],
      "authorship_tag": "ABX9TyOcB2u3I5crWRK2vttGde3h",
      "include_colab_link": true
    },
    "kernelspec": {
      "name": "python3",
      "display_name": "Python 3"
    },
    "language_info": {
      "name": "python"
    }
  },
  "cells": [
    {
      "cell_type": "markdown",
      "metadata": {
        "id": "view-in-github",
        "colab_type": "text"
      },
      "source": [
        "<a href=\"https://colab.research.google.com/github/ritiksharmasde/Deep_Learning/blob/main/Cauchy_Schwarz_inequality.ipynb\" target=\"_parent\"><img src=\"https://colab.research.google.com/assets/colab-badge.svg\" alt=\"Open In Colab\"/></a>"
      ]
    },
    {
      "cell_type": "code",
      "execution_count": 1,
      "metadata": {
        "colab": {
          "base_uri": "https://localhost:8080/"
        },
        "id": "Fw0EGjKUP0I0",
        "outputId": "4abb32bd-10b3-4ab0-a18c-72a42000cf8a"
      },
      "outputs": [
        {
          "output_type": "stream",
          "name": "stdout",
          "text": [
            "LHS: 1024, RHS: 1078\n",
            "Cauchy-Schwarz inequality holds!\n"
          ]
        }
      ],
      "source": [
        "import numpy as np\n",
        "\n",
        "def cauchy_schwarz_inequality(a, b):\n",
        "    \"\"\"\n",
        "    Checks the Cauchy-Schwarz Inequality for two given vectors.\n",
        "    :param a: List or NumPy array\n",
        "    :param b: List or NumPy array\n",
        "    :return: Boolean indicating if the inequality holds\n",
        "    \"\"\"\n",
        "    a = np.array(a)\n",
        "    b = np.array(b)\n",
        "\n",
        "    lhs = np.dot(a, b) ** 2  # (Σ a_i * b_i)²\n",
        "    rhs = np.dot(a, a) * np.dot(b, b)  # (Σ a_i²) * (Σ b_i²)\n",
        "\n",
        "    print(f\"LHS: {lhs}, RHS: {rhs}\")\n",
        "    return lhs <= rhs\n",
        "\n",
        "\n",
        "a = [1, 2, 3]\n",
        "b = [4, 5, 6]\n",
        "\n",
        "if cauchy_schwarz_inequality(a, b):\n",
        "    print(\"Cauchy-Schwarz inequality holds!\")\n",
        "else:\n",
        "    print(\"Cauchy-Schwarz inequality does not hold!\")\n"
      ]
    }
  ]
}